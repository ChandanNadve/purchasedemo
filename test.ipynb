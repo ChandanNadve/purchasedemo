{
 "cells": [
  {
   "cell_type": "code",
   "execution_count": 1,
   "metadata": {},
   "outputs": [],
   "source": [
    "import pandas as pd\n",
    "import os"
   ]
  },
  {
   "cell_type": "code",
   "execution_count": 2,
   "metadata": {},
   "outputs": [],
   "source": [
    "lpo_grn_net_values = pd.read_csv(os.path.join(\"data\", \"lpo_grn_net_values.csv\"))"
   ]
  },
  {
   "cell_type": "code",
   "execution_count": 3,
   "metadata": {},
   "outputs": [],
   "source": [
    "total_employee_strength_data = pd.read_csv(os.path.join(\"data\",\"total_employee_strength_data.csv\"))\n",
    "total_employee_strength_data['MONTH'] = total_employee_strength_data['MONTH'].str.strip().str.upper()"
   ]
  },
  {
   "cell_type": "code",
   "execution_count": null,
   "metadata": {},
   "outputs": [],
   "source": []
  },
  {
   "cell_type": "code",
   "execution_count": 5,
   "metadata": {},
   "outputs": [
    {
     "data": {
      "text/plain": [
       "YEAR\n",
       "2008    2361\n",
       "2009    2926\n",
       "2010    3730\n",
       "2011    3901\n",
       "2012    5008\n",
       "2013    6341\n",
       "2014    8272\n",
       "2015    9251\n",
       "2016    6493\n",
       "2017    5775\n",
       "2018    5717\n",
       "2019    4441\n",
       "2020    3886\n",
       "2021    3675\n",
       "2022    4183\n",
       "2023    3796\n",
       "2024    3440\n",
       "Name: STRENGTH, dtype: int64"
      ]
     },
     "execution_count": 5,
     "metadata": {},
     "output_type": "execute_result"
    }
   ],
   "source": [
    "total_employee_strength_data[total_employee_strength_data['MONTH']=='DECEMBER'].groupby(['YEAR'])['STRENGTH'].sum()"
   ]
  },
  {
   "cell_type": "code",
   "execution_count": null,
   "metadata": {},
   "outputs": [],
   "source": [
    "in_out_strength"
   ]
  },
  {
   "cell_type": "code",
   "execution_count": 13,
   "metadata": {},
   "outputs": [],
   "source": [
    "visa_expiry = pd.read_csv(os.path.join(\"data\",\"visa_expiry.csv\"))\n",
    "\n"
   ]
  },
  {
   "cell_type": "code",
   "execution_count": 14,
   "metadata": {},
   "outputs": [
    {
     "data": {
      "text/html": [
       "<div>\n",
       "<style scoped>\n",
       "    .dataframe tbody tr th:only-of-type {\n",
       "        vertical-align: middle;\n",
       "    }\n",
       "\n",
       "    .dataframe tbody tr th {\n",
       "        vertical-align: top;\n",
       "    }\n",
       "\n",
       "    .dataframe thead th {\n",
       "        text-align: right;\n",
       "    }\n",
       "</style>\n",
       "<table border=\"1\" class=\"dataframe\">\n",
       "  <thead>\n",
       "    <tr style=\"text-align: right;\">\n",
       "      <th></th>\n",
       "      <th>Employee_Type</th>\n",
       "      <th>Employee_Category</th>\n",
       "      <th>Expiry_Year</th>\n",
       "      <th>Expiry_Month</th>\n",
       "      <th>Total_by_Month</th>\n",
       "    </tr>\n",
       "  </thead>\n",
       "  <tbody>\n",
       "    <tr>\n",
       "      <th>0</th>\n",
       "      <td>Permanent</td>\n",
       "      <td>LABOUR</td>\n",
       "      <td>2000</td>\n",
       "      <td>Aug</td>\n",
       "      <td>2</td>\n",
       "    </tr>\n",
       "    <tr>\n",
       "      <th>1</th>\n",
       "      <td>Permanent</td>\n",
       "      <td>LABOUR</td>\n",
       "      <td>2000</td>\n",
       "      <td>Jul</td>\n",
       "      <td>1</td>\n",
       "    </tr>\n",
       "    <tr>\n",
       "      <th>2</th>\n",
       "      <td>Permanent</td>\n",
       "      <td>LABOUR</td>\n",
       "      <td>2000</td>\n",
       "      <td>Jun</td>\n",
       "      <td>1</td>\n",
       "    </tr>\n",
       "    <tr>\n",
       "      <th>3</th>\n",
       "      <td>Permanent</td>\n",
       "      <td>LABOUR</td>\n",
       "      <td>2000</td>\n",
       "      <td>May</td>\n",
       "      <td>1</td>\n",
       "    </tr>\n",
       "    <tr>\n",
       "      <th>4</th>\n",
       "      <td>Permanent</td>\n",
       "      <td>LABOUR</td>\n",
       "      <td>2001</td>\n",
       "      <td>Jun</td>\n",
       "      <td>1</td>\n",
       "    </tr>\n",
       "    <tr>\n",
       "      <th>...</th>\n",
       "      <td>...</td>\n",
       "      <td>...</td>\n",
       "      <td>...</td>\n",
       "      <td>...</td>\n",
       "      <td>...</td>\n",
       "    </tr>\n",
       "    <tr>\n",
       "      <th>751</th>\n",
       "      <td>Permanent</td>\n",
       "      <td>STAFF</td>\n",
       "      <td>2027</td>\n",
       "      <td>Apr</td>\n",
       "      <td>5</td>\n",
       "    </tr>\n",
       "    <tr>\n",
       "      <th>752</th>\n",
       "      <td>Permanent</td>\n",
       "      <td>STAFF</td>\n",
       "      <td>2027</td>\n",
       "      <td>Feb</td>\n",
       "      <td>2</td>\n",
       "    </tr>\n",
       "    <tr>\n",
       "      <th>753</th>\n",
       "      <td>Permanent</td>\n",
       "      <td>STAFF</td>\n",
       "      <td>2027</td>\n",
       "      <td>Jan</td>\n",
       "      <td>1</td>\n",
       "    </tr>\n",
       "    <tr>\n",
       "      <th>754</th>\n",
       "      <td>Permanent</td>\n",
       "      <td>STAFF</td>\n",
       "      <td>2525</td>\n",
       "      <td>Oct</td>\n",
       "      <td>1</td>\n",
       "    </tr>\n",
       "    <tr>\n",
       "      <th>755</th>\n",
       "      <td>Permanent</td>\n",
       "      <td>LABOUR</td>\n",
       "      <td>9200</td>\n",
       "      <td>Nov</td>\n",
       "      <td>1</td>\n",
       "    </tr>\n",
       "  </tbody>\n",
       "</table>\n",
       "<p>756 rows × 5 columns</p>\n",
       "</div>"
      ],
      "text/plain": [
       "    Employee_Type Employee_Category  Expiry_Year Expiry_Month  Total_by_Month \n",
       "0       Permanent            LABOUR         2000          Aug                2\n",
       "1       Permanent            LABOUR         2000          Jul                1\n",
       "2       Permanent            LABOUR         2000          Jun                1\n",
       "3       Permanent            LABOUR         2000          May                1\n",
       "4       Permanent            LABOUR         2001          Jun                1\n",
       "..            ...               ...          ...          ...              ...\n",
       "751     Permanent             STAFF         2027          Apr                5\n",
       "752     Permanent             STAFF         2027          Feb                2\n",
       "753     Permanent             STAFF         2027          Jan                1\n",
       "754     Permanent             STAFF         2525          Oct                1\n",
       "755     Permanent            LABOUR         9200          Nov                1\n",
       "\n",
       "[756 rows x 5 columns]"
      ]
     },
     "execution_count": 14,
     "metadata": {},
     "output_type": "execute_result"
    }
   ],
   "source": [
    "visa_expiry"
   ]
  }
 ],
 "metadata": {
  "kernelspec": {
   "display_name": "base",
   "language": "python",
   "name": "python3"
  },
  "language_info": {
   "codemirror_mode": {
    "name": "ipython",
    "version": 3
   },
   "file_extension": ".py",
   "mimetype": "text/x-python",
   "name": "python",
   "nbconvert_exporter": "python",
   "pygments_lexer": "ipython3",
   "version": "3.12.4"
  }
 },
 "nbformat": 4,
 "nbformat_minor": 2
}
